{
  "nbformat": 4,
  "nbformat_minor": 0,
  "metadata": {
    "colab": {
      "provenance": [],
      "authorship_tag": "ABX9TyOYiu5TPEd+gGH+8g8DA6/I",
      "include_colab_link": true
    },
    "kernelspec": {
      "name": "python3",
      "display_name": "Python 3"
    },
    "language_info": {
      "name": "python"
    }
  },
  "cells": [
    {
      "cell_type": "markdown",
      "metadata": {
        "id": "view-in-github",
        "colab_type": "text"
      },
      "source": [
        "<a href=\"https://colab.research.google.com/github/DiegoLizarraga/Python_adverso4.0/blob/main/Masterclass_en_Industria_4_0.ipynb\" target=\"_parent\"><img src=\"https://colab.research.google.com/assets/colab-badge.svg\" alt=\"Open In Colab\"/></a>"
      ]
    },
    {
      "cell_type": "code",
      "metadata": {
        "colab": {
          "base_uri": "https://localhost:8080/"
        },
        "id": "bd0fe873",
        "outputId": "be76e3d6-8464-48ab-ceed-68380dc13c08"
      },
      "source": [
        "#Ejercicio 1\n",
        "# Programa para calcular el área de un triángulo\n",
        "\n",
        "# Solicitar al usuario la base y la altura\n",
        "base = float(input(\"Ingrese la base del triángulo (en unidades): \"))\n",
        "altura = float(input(\"Ingrese la altura del triángulo (en unidades): \"))\n",
        "\n",
        "# Calcular el área\n",
        "area = (base * altura) / 2\n",
        "\n",
        "# Mostrar el resultado con un mensaje descriptivo\n",
        "print(f\"El área del triángulo con base {base} y altura {altura} es {area} unidades cuadradas.\")\n"
      ],
      "execution_count": 8,
      "outputs": [
        {
          "output_type": "stream",
          "name": "stdout",
          "text": [
            "Ingrese la base del triángulo (en unidades): 4\n",
            "Ingrese la altura del triángulo (en unidades): 12\n",
            "El área del triángulo con base 4.0 y altura 12.0 es 24.0 unidades cuadradas.\n"
          ]
        }
      ]
    }
  ]
}